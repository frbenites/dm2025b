{
 "cells": [
  {
   "cell_type": "markdown",
   "id": "ada63035",
   "metadata": {},
   "source": [
    "# R"
   ]
  },
  {
   "cell_type": "code",
   "execution_count": 20,
   "metadata": {
    "vscode": {
     "languageId": "r"
    }
   },
   "outputs": [],
   "source": [
    "library(data.table)\n",
    "\n",
    "# Read the CSV\n",
    "df <- fread(\"/Users/franco.benites/dm2025b/src/workflows/experiments_tracking.csv\")"
   ]
  },
  {
   "cell_type": "code",
   "execution_count": 22,
   "id": "5a0b2ebf",
   "metadata": {
    "vscode": {
     "languageId": "r"
    }
   },
   "outputs": [
    {
     "data": {
      "text/html": [
       "<style>\n",
       ".list-inline {list-style: none; margin:0; padding: 0}\n",
       ".list-inline>li {display: inline-block}\n",
       ".list-inline>li:not(:last-child)::after {content: \"\\00b7\"; padding: 0 .5ex}\n",
       "</style>\n",
       "<ol class=list-inline><li>'Experimento'</li><li>'orden corrida'</li><li>'date'</li><li>'publicScore'</li><li>'envios'</li><li>'semilla'</li><li>'num_leaves'</li><li>'min_data_in_leaf'</li><li>'feature_fraction'</li><li>'learning_rate'</li><li>'num_iterations'</li><li>'drift'</li></ol>\n"
      ],
      "text/latex": [
       "\\begin{enumerate*}\n",
       "\\item 'Experimento'\n",
       "\\item 'orden corrida'\n",
       "\\item 'date'\n",
       "\\item 'publicScore'\n",
       "\\item 'envios'\n",
       "\\item 'semilla'\n",
       "\\item 'num\\_leaves'\n",
       "\\item 'min\\_data\\_in\\_leaf'\n",
       "\\item 'feature\\_fraction'\n",
       "\\item 'learning\\_rate'\n",
       "\\item 'num\\_iterations'\n",
       "\\item 'drift'\n",
       "\\end{enumerate*}\n"
      ],
      "text/markdown": [
       "1. 'Experimento'\n",
       "2. 'orden corrida'\n",
       "3. 'date'\n",
       "4. 'publicScore'\n",
       "5. 'envios'\n",
       "6. 'semilla'\n",
       "7. 'num_leaves'\n",
       "8. 'min_data_in_leaf'\n",
       "9. 'feature_fraction'\n",
       "10. 'learning_rate'\n",
       "11. 'num_iterations'\n",
       "12. 'drift'\n",
       "\n",
       "\n"
      ],
      "text/plain": [
       " [1] \"Experimento\"      \"orden corrida\"    \"date\"             \"publicScore\"     \n",
       " [5] \"envios\"           \"semilla\"          \"num_leaves\"       \"min_data_in_leaf\"\n",
       " [9] \"feature_fraction\" \"learning_rate\"    \"num_iterations\"   \"drift\"           "
      ]
     },
     "metadata": {},
     "output_type": "display_data"
    }
   ],
   "source": [
    "colnames(df)"
   ]
  },
  {
   "cell_type": "code",
   "execution_count": 32,
   "metadata": {
    "vscode": {
     "languageId": "r"
    }
   },
   "outputs": [
    {
     "name": "stdout",
     "output_type": "stream",
     "text": [
      "[1] \"orden_corrida\"\n"
     ]
    },
    {
     "data": {
      "text/html": [
       "<style>\n",
       ".list-inline {list-style: none; margin:0; padding: 0}\n",
       ".list-inline>li {display: inline-block}\n",
       ".list-inline>li:not(:last-child)::after {content: \"\\00b7\"; padding: 0 .5ex}\n",
       "</style>\n",
       "<ol class=list-inline><li>'Experimento'</li><li>'orden_corrida'</li><li>'date'</li><li>'publicScore'</li><li>'envios'</li><li>'semilla'</li><li>'num_leaves'</li><li>'min_data_in_leaf'</li><li>'feature_fraction'</li><li>'learning_rate'</li><li>'num_iterations'</li><li>'drift'</li></ol>\n"
      ],
      "text/latex": [
       "\\begin{enumerate*}\n",
       "\\item 'Experimento'\n",
       "\\item 'orden\\_corrida'\n",
       "\\item 'date'\n",
       "\\item 'publicScore'\n",
       "\\item 'envios'\n",
       "\\item 'semilla'\n",
       "\\item 'num\\_leaves'\n",
       "\\item 'min\\_data\\_in\\_leaf'\n",
       "\\item 'feature\\_fraction'\n",
       "\\item 'learning\\_rate'\n",
       "\\item 'num\\_iterations'\n",
       "\\item 'drift'\n",
       "\\end{enumerate*}\n"
      ],
      "text/markdown": [
       "1. 'Experimento'\n",
       "2. 'orden_corrida'\n",
       "3. 'date'\n",
       "4. 'publicScore'\n",
       "5. 'envios'\n",
       "6. 'semilla'\n",
       "7. 'num_leaves'\n",
       "8. 'min_data_in_leaf'\n",
       "9. 'feature_fraction'\n",
       "10. 'learning_rate'\n",
       "11. 'num_iterations'\n",
       "12. 'drift'\n",
       "\n",
       "\n"
      ],
      "text/plain": [
       " [1] \"Experimento\"      \"orden_corrida\"    \"date\"             \"publicScore\"     \n",
       " [5] \"envios\"           \"semilla\"          \"num_leaves\"       \"min_data_in_leaf\"\n",
       " [9] \"feature_fraction\" \"learning_rate\"    \"num_iterations\"   \"drift\"           "
      ]
     },
     "metadata": {},
     "output_type": "display_data"
    }
   ],
   "source": [
    "# Check which column index \"orden corrida\" is (should be column 2)\n",
    "print(colnames(df)[2])\n",
    "\n",
    "# Rename by index\n",
    "setnames(df, old = 2, new = \"orden_corrida\")\n",
    "\n",
    "# Verify the change\n",
    "colnames(df)"
   ]
  },
  {
   "cell_type": "code",
   "execution_count": 23,
   "metadata": {
    "vscode": {
     "languageId": "r"
    }
   },
   "outputs": [],
   "source": [
    "df[, drift := tolower(drift)]\n",
    "df[, drift := gsub(\" \", \"_\", drift)]"
   ]
  },
  {
   "cell_type": "code",
   "execution_count": 24,
   "id": "434ce4b2",
   "metadata": {
    "vscode": {
     "languageId": "r"
    }
   },
   "outputs": [],
   "source": [
    "df <- df[!is.na(df$publicScore)]"
   ]
  },
  {
   "cell_type": "code",
   "execution_count": 25,
   "metadata": {
    "vscode": {
     "languageId": "r"
    }
   },
   "outputs": [
    {
     "data": {
      "text/html": [
       "<table class=\"dataframe\">\n",
       "<caption>A data.table: 6 x 12</caption>\n",
       "<thead>\n",
       "\t<tr><th scope=col>Experimento</th><th scope=col>orden corrida</th><th scope=col>date</th><th scope=col>publicScore</th><th scope=col>envios</th><th scope=col>semilla</th><th scope=col>num_leaves</th><th scope=col>min_data_in_leaf</th><th scope=col>feature_fraction</th><th scope=col>learning_rate</th><th scope=col>num_iterations</th><th scope=col>drift</th></tr>\n",
       "\t<tr><th scope=col>&lt;int&gt;</th><th scope=col>&lt;int&gt;</th><th scope=col>&lt;dttm&gt;</th><th scope=col>&lt;dbl&gt;</th><th scope=col>&lt;int&gt;</th><th scope=col>&lt;int&gt;</th><th scope=col>&lt;int&gt;</th><th scope=col>&lt;int&gt;</th><th scope=col>&lt;dbl&gt;</th><th scope=col>&lt;dbl&gt;</th><th scope=col>&lt;int&gt;</th><th scope=col>&lt;chr&gt;</th></tr>\n",
       "</thead>\n",
       "<tbody>\n",
       "\t<tr><td>9116</td><td>1</td><td>NA</td><td>6.435</td><td>2400</td><td>100379</td><td> 60</td><td>2100</td><td>1</td><td>0.1</td><td>1032</td><td>dolar_blue</td></tr>\n",
       "\t<tr><td>9117</td><td>2</td><td>NA</td><td>6.505</td><td>1800</td><td>101111</td><td>202</td><td>4281</td><td>1</td><td>0.1</td><td> 215</td><td>dolar_blue</td></tr>\n",
       "\t<tr><td>9118</td><td>3</td><td>2025-09-12 17:35:58</td><td>7.506</td><td>1800</td><td>250007</td><td>120</td><td>8185</td><td>1</td><td>0.1</td><td>1382</td><td>dolar_blue</td></tr>\n",
       "\t<tr><td>9119</td><td>4</td><td>NA</td><td>7.336</td><td>1800</td><td>700001</td><td>220</td><td>8190</td><td>1</td><td>0.1</td><td> 482</td><td>dolar_blue</td></tr>\n",
       "\t<tr><td>9120</td><td>5</td><td>NA</td><td>6.055</td><td>  NA</td><td>800011</td><td> NA</td><td>  NA</td><td>1</td><td>0.1</td><td>  NA</td><td>dolar_blue</td></tr>\n",
       "\t<tr><td>9131</td><td>6</td><td>NA</td><td>6.575</td><td>  NA</td><td>237689</td><td> NA</td><td>  NA</td><td>1</td><td>0.1</td><td>  NA</td><td>dolar_blue</td></tr>\n",
       "</tbody>\n",
       "</table>\n"
      ],
      "text/latex": [
       "A data.table: 6 x 12\n",
       "\\begin{tabular}{llllllllllll}\n",
       " Experimento & orden corrida & date & publicScore & envios & semilla & num\\_leaves & min\\_data\\_in\\_leaf & feature\\_fraction & learning\\_rate & num\\_iterations & drift\\\\\n",
       " <int> & <int> & <dttm> & <dbl> & <int> & <int> & <int> & <int> & <dbl> & <dbl> & <int> & <chr>\\\\\n",
       "\\hline\n",
       "\t 9116 & 1 & NA & 6.435 & 2400 & 100379 &  60 & 2100 & 1 & 0.1 & 1032 & dolar\\_blue\\\\\n",
       "\t 9117 & 2 & NA & 6.505 & 1800 & 101111 & 202 & 4281 & 1 & 0.1 &  215 & dolar\\_blue\\\\\n",
       "\t 9118 & 3 & 2025-09-12 17:35:58 & 7.506 & 1800 & 250007 & 120 & 8185 & 1 & 0.1 & 1382 & dolar\\_blue\\\\\n",
       "\t 9119 & 4 & NA & 7.336 & 1800 & 700001 & 220 & 8190 & 1 & 0.1 &  482 & dolar\\_blue\\\\\n",
       "\t 9120 & 5 & NA & 6.055 &   NA & 800011 &  NA &   NA & 1 & 0.1 &   NA & dolar\\_blue\\\\\n",
       "\t 9131 & 6 & NA & 6.575 &   NA & 237689 &  NA &   NA & 1 & 0.1 &   NA & dolar\\_blue\\\\\n",
       "\\end{tabular}\n"
      ],
      "text/markdown": [
       "\n",
       "A data.table: 6 x 12\n",
       "\n",
       "| Experimento &lt;int&gt; | orden corrida &lt;int&gt; | date &lt;dttm&gt; | publicScore &lt;dbl&gt; | envios &lt;int&gt; | semilla &lt;int&gt; | num_leaves &lt;int&gt; | min_data_in_leaf &lt;int&gt; | feature_fraction &lt;dbl&gt; | learning_rate &lt;dbl&gt; | num_iterations &lt;int&gt; | drift &lt;chr&gt; |\n",
       "|---|---|---|---|---|---|---|---|---|---|---|---|\n",
       "| 9116 | 1 | NA | 6.435 | 2400 | 100379 |  60 | 2100 | 1 | 0.1 | 1032 | dolar_blue |\n",
       "| 9117 | 2 | NA | 6.505 | 1800 | 101111 | 202 | 4281 | 1 | 0.1 |  215 | dolar_blue |\n",
       "| 9118 | 3 | 2025-09-12 17:35:58 | 7.506 | 1800 | 250007 | 120 | 8185 | 1 | 0.1 | 1382 | dolar_blue |\n",
       "| 9119 | 4 | NA | 7.336 | 1800 | 700001 | 220 | 8190 | 1 | 0.1 |  482 | dolar_blue |\n",
       "| 9120 | 5 | NA | 6.055 |   NA | 800011 |  NA |   NA | 1 | 0.1 |   NA | dolar_blue |\n",
       "| 9131 | 6 | NA | 6.575 |   NA | 237689 |  NA |   NA | 1 | 0.1 |   NA | dolar_blue |\n",
       "\n"
      ],
      "text/plain": [
       "  Experimento orden corrida date                publicScore envios semilla\n",
       "1 9116        1             <NA>                6.435       2400   100379 \n",
       "2 9117        2             <NA>                6.505       1800   101111 \n",
       "3 9118        3             2025-09-12 17:35:58 7.506       1800   250007 \n",
       "4 9119        4             <NA>                7.336       1800   700001 \n",
       "5 9120        5             <NA>                6.055         NA   800011 \n",
       "6 9131        6             <NA>                6.575         NA   237689 \n",
       "  num_leaves min_data_in_leaf feature_fraction learning_rate num_iterations\n",
       "1  60        2100             1                0.1           1032          \n",
       "2 202        4281             1                0.1            215          \n",
       "3 120        8185             1                0.1           1382          \n",
       "4 220        8190             1                0.1            482          \n",
       "5  NA          NA             1                0.1             NA          \n",
       "6  NA          NA             1                0.1             NA          \n",
       "  drift     \n",
       "1 dolar_blue\n",
       "2 dolar_blue\n",
       "3 dolar_blue\n",
       "4 dolar_blue\n",
       "5 dolar_blue\n",
       "6 dolar_blue"
      ]
     },
     "metadata": {},
     "output_type": "display_data"
    },
    {
     "name": "stdout",
     "output_type": "stream",
     "text": [
      "[1] \"dolar_blue\"     \"ipc\"            \"ninguno\"        \"nucleo\"        \n",
      "[5] \"rank__simple\"   \"rank_cero_fijo\" \"std\"           \n"
     ]
    }
   ],
   "source": [
    "# Print head of data\n",
    "head(df)\n",
    "\n",
    "# Get unique drift methods\n",
    "drift_methods <- unique(df$drift)\n",
    "print(drift_methods)\n",
    "\n",
    "# Create separate vectors for each drift method\n",
    "score_by_drift <- list(\n",
    "  ipc = df[drift == \"ipc\", publicScore],\n",
    "  nucleo = df[drift == \"nucleo\", publicScore],\n",
    "  dolar_blue = df[drift == \"dolar_blue\", publicScore],\n",
    "  ninguno = df[drift == \"ninguno\", publicScore],\n",
    "  rank_simple = df[drift == \"rank_simple\", publicScore]\n",
    ")\n"
   ]
  },
  {
   "cell_type": "code",
   "execution_count": 26,
   "id": "a2c7542e",
   "metadata": {
    "vscode": {
     "languageId": "r"
    }
   },
   "outputs": [
    {
     "name": "stdout",
     "output_type": "stream",
     "text": [
      "[1] 0\n"
     ]
    }
   ],
   "source": [
    "wt <- wilcox.test(score_by_drift$ipc, score_by_drift$nucleo)\n",
    "pvalue <- wt$p.value\n",
    "out <- 0\n",
    "if (pvalue < 0.05 && mean(score_by_drift$ipc) > mean(score_by_drift$nucleo)) {\n",
    "  out <- 1\n",
    "} else if (pvalue < 0.05 && mean(score_by_drift$ipc) < mean(score_by_drift$nucleo)) {\n",
    "  out <- 2\n",
    "}\n",
    "print(out)"
   ]
  },
  {
   "cell_type": "code",
   "execution_count": 34,
   "id": "af6cf109",
   "metadata": {
    "vscode": {
     "languageId": "r"
    }
   },
   "outputs": [
    {
     "name": "stderr",
     "output_type": "stream",
     "text": [
      "Warning message in wilcox.test.default(scores1, scores2):\n",
      "\"cannot compute exact p-value with ties\"\n",
      "Warning message in wilcox.test.default(scores1, scores2):\n",
      "\"cannot compute exact p-value with ties\"\n",
      "Warning message in wilcox.test.default(scores1, scores2):\n",
      "\"cannot compute exact p-value with ties\"\n",
      "Warning message in wilcox.test.default(scores1, scores2):\n",
      "\"cannot compute exact p-value with ties\"\n",
      "Warning message in wilcox.test.default(scores1, scores2):\n",
      "\"cannot compute exact p-value with ties\"\n",
      "Warning message in wilcox.test.default(scores1, scores2):\n",
      "\"cannot compute exact p-value with ties\"\n",
      "Warning message in wilcox.test.default(scores1, scores2):\n",
      "\"cannot compute exact p-value with ties\"\n",
      "Warning message in wilcox.test.default(scores1, scores2):\n",
      "\"cannot compute exact p-value with ties\"\n",
      "Warning message in wilcox.test.default(scores1, scores2):\n",
      "\"cannot compute exact p-value with ties\"\n",
      "Warning message in wilcox.test.default(scores1, scores2):\n",
      "\"cannot compute exact p-value with ties\"\n",
      "Warning message in wilcox.test.default(scores1, scores2):\n",
      "\"cannot compute exact p-value with ties\"\n",
      "Warning message in wilcox.test.default(scores1, scores2):\n",
      "\"cannot compute exact p-value with ties\"\n",
      "Warning message in wilcox.test.default(scores1, scores2):\n",
      "\"cannot compute exact p-value with ties\"\n",
      "Warning message in wilcox.test.default(scores1, scores2):\n",
      "\"cannot compute exact p-value with ties\"\n"
     ]
    },
    {
     "name": "stdout",
     "output_type": "stream",
     "text": [
      "          method1        method2      pvalue   mean1   mean2          result\n",
      "1      dolar_blue            ipc 0.289737063 6.76920 7.08340 NOT-SIGNIFICANT\n",
      "2             ipc         nucleo 0.594072594 7.08340 6.79300 NOT-SIGNIFICANT\n",
      "3      dolar_blue         nucleo 1.000000000 6.76920 6.79300 NOT-SIGNIFICANT\n",
      "4         ninguno         nucleo 0.434554664 7.03285 6.79300 NOT-SIGNIFICANT\n",
      "5             ipc        ninguno 1.000000000 7.08340 7.03285 NOT-SIGNIFICANT\n",
      "6      dolar_blue        ninguno 0.179508759 6.76920 7.03285 NOT-SIGNIFICANT\n",
      "7             ipc    rank_simple 0.018543376 7.08340 6.05650          1 WINS\n",
      "8          nucleo    rank_simple 0.111027488 6.79300 6.05650 NOT-SIGNIFICANT\n",
      "9      dolar_blue    rank_simple 0.123005477 6.76920 6.05650 NOT-SIGNIFICANT\n",
      "10        ninguno    rank_simple 0.007269502 7.03285 6.05650          1 WINS\n",
      "11 rank_cero_fijo    rank_simple 0.012890679 6.93265 6.05650          1 WINS\n",
      "12            ipc rank_cero_fijo 0.964901275 7.08340 6.93265 NOT-SIGNIFICANT\n",
      "13         nucleo rank_cero_fijo 0.634260072 6.79300 6.93265 NOT-SIGNIFICANT\n",
      "14     dolar_blue rank_cero_fijo 0.390902919 6.76920 6.93265 NOT-SIGNIFICANT\n",
      "15        ninguno rank_cero_fijo 0.903098404 7.03285 6.93265 NOT-SIGNIFICANT\n",
      "16            ipc            std 0.015525522 7.08340 5.21090          1 WINS\n",
      "17         nucleo            std 0.129204129 6.79300 5.21090 NOT-SIGNIFICANT\n",
      "18     dolar_blue            std 0.063012839 6.76920 5.21090 NOT-SIGNIFICANT\n",
      "19        ninguno            std 0.002769140 7.03285 5.21090          1 WINS\n",
      "20    rank_simple            std 0.739364351 6.05650 5.21090 NOT-SIGNIFICANT\n",
      "21 rank_cero_fijo            std 0.009425252 6.93265 5.21090          1 WINS\n"
     ]
    }
   ],
   "source": [
    "# Get all unique pairs of methods\n",
    "methods <- names(score_by_drift)\n",
    "pairs <- expand.grid(method1 = methods, method2 = methods, stringsAsFactors = FALSE)  # Prevent factor conversion\n",
    "pairs <- pairs[pairs$method1 < pairs$method2, ]  # Keep only unique pairs\n",
    "\n",
    "# Function to compare two methods\n",
    "compare_methods <- function(method1, method2) {\n",
    "  # Convert to numeric if needed\n",
    "  scores1 <- as.numeric(score_by_drift[[method1]])\n",
    "  scores2 <- as.numeric(score_by_drift[[method2]])\n",
    "  \n",
    "  wt <- wilcox.test(scores1, scores2)\n",
    "  pvalue <- wt$p.value\n",
    "  \n",
    "  out <- \"NOT-SIGNIFICANT\"\n",
    "  if (pvalue < 0.05 && mean(scores1) > mean(scores2)) {\n",
    "    out <- \"1 WINS\"  # method1 significantly better\n",
    "  } else if (pvalue < 0.05 && mean(scores1) < mean(scores2)) {\n",
    "    out <- \"2 WINS\"  # method2 significantly better\n",
    "  }\n",
    "  \n",
    "  return(data.frame(\n",
    "    method1 = method1,\n",
    "    method2 = method2,\n",
    "    pvalue = pvalue,\n",
    "    mean1 = mean(scores1),\n",
    "    mean2 = mean(scores2),\n",
    "    result = out\n",
    "  ))\n",
    "}\n",
    "\n",
    "# Apply comparison to all pairs\n",
    "results <- do.call(rbind, \n",
    "  lapply(1:nrow(pairs), function(i) {\n",
    "    compare_methods(pairs$method1[i], pairs$method2[i])\n",
    "  })\n",
    ")\n",
    "\n",
    "# Print results in a nice format\n",
    "print(results)"
   ]
  },
  {
   "cell_type": "code",
   "execution_count": 28,
   "id": "7ec58cbe",
   "metadata": {
    "vscode": {
     "languageId": "r"
    }
   },
   "outputs": [
    {
     "data": {
      "text/html": [
       "<table class=\"dataframe\">\n",
       "<caption>A data.table: 6 x 12</caption>\n",
       "<thead>\n",
       "\t<tr><th scope=col>Experimento</th><th scope=col>orden corrida</th><th scope=col>date</th><th scope=col>publicScore</th><th scope=col>envios</th><th scope=col>semilla</th><th scope=col>num_leaves</th><th scope=col>min_data_in_leaf</th><th scope=col>feature_fraction</th><th scope=col>learning_rate</th><th scope=col>num_iterations</th><th scope=col>drift</th></tr>\n",
       "\t<tr><th scope=col>&lt;int&gt;</th><th scope=col>&lt;int&gt;</th><th scope=col>&lt;dttm&gt;</th><th scope=col>&lt;dbl&gt;</th><th scope=col>&lt;int&gt;</th><th scope=col>&lt;int&gt;</th><th scope=col>&lt;int&gt;</th><th scope=col>&lt;int&gt;</th><th scope=col>&lt;dbl&gt;</th><th scope=col>&lt;dbl&gt;</th><th scope=col>&lt;int&gt;</th><th scope=col>&lt;chr&gt;</th></tr>\n",
       "</thead>\n",
       "<tbody>\n",
       "\t<tr><td>9116</td><td>1</td><td>NA</td><td>6.435</td><td>2400</td><td>100379</td><td> 60</td><td>2100</td><td>1</td><td>0.1</td><td>1032</td><td>dolar_blue</td></tr>\n",
       "\t<tr><td>9117</td><td>2</td><td>NA</td><td>6.505</td><td>1800</td><td>101111</td><td>202</td><td>4281</td><td>1</td><td>0.1</td><td> 215</td><td>dolar_blue</td></tr>\n",
       "\t<tr><td>9118</td><td>3</td><td>2025-09-12 17:35:58</td><td>7.506</td><td>1800</td><td>250007</td><td>120</td><td>8185</td><td>1</td><td>0.1</td><td>1382</td><td>dolar_blue</td></tr>\n",
       "\t<tr><td>9119</td><td>4</td><td>NA</td><td>7.336</td><td>1800</td><td>700001</td><td>220</td><td>8190</td><td>1</td><td>0.1</td><td> 482</td><td>dolar_blue</td></tr>\n",
       "\t<tr><td>9120</td><td>5</td><td>NA</td><td>6.055</td><td>  NA</td><td>800011</td><td> NA</td><td>  NA</td><td>1</td><td>0.1</td><td>  NA</td><td>dolar_blue</td></tr>\n",
       "\t<tr><td>9131</td><td>6</td><td>NA</td><td>6.575</td><td>  NA</td><td>237689</td><td> NA</td><td>  NA</td><td>1</td><td>0.1</td><td>  NA</td><td>dolar_blue</td></tr>\n",
       "</tbody>\n",
       "</table>\n"
      ],
      "text/latex": [
       "A data.table: 6 x 12\n",
       "\\begin{tabular}{llllllllllll}\n",
       " Experimento & orden corrida & date & publicScore & envios & semilla & num\\_leaves & min\\_data\\_in\\_leaf & feature\\_fraction & learning\\_rate & num\\_iterations & drift\\\\\n",
       " <int> & <int> & <dttm> & <dbl> & <int> & <int> & <int> & <int> & <dbl> & <dbl> & <int> & <chr>\\\\\n",
       "\\hline\n",
       "\t 9116 & 1 & NA & 6.435 & 2400 & 100379 &  60 & 2100 & 1 & 0.1 & 1032 & dolar\\_blue\\\\\n",
       "\t 9117 & 2 & NA & 6.505 & 1800 & 101111 & 202 & 4281 & 1 & 0.1 &  215 & dolar\\_blue\\\\\n",
       "\t 9118 & 3 & 2025-09-12 17:35:58 & 7.506 & 1800 & 250007 & 120 & 8185 & 1 & 0.1 & 1382 & dolar\\_blue\\\\\n",
       "\t 9119 & 4 & NA & 7.336 & 1800 & 700001 & 220 & 8190 & 1 & 0.1 &  482 & dolar\\_blue\\\\\n",
       "\t 9120 & 5 & NA & 6.055 &   NA & 800011 &  NA &   NA & 1 & 0.1 &   NA & dolar\\_blue\\\\\n",
       "\t 9131 & 6 & NA & 6.575 &   NA & 237689 &  NA &   NA & 1 & 0.1 &   NA & dolar\\_blue\\\\\n",
       "\\end{tabular}\n"
      ],
      "text/markdown": [
       "\n",
       "A data.table: 6 x 12\n",
       "\n",
       "| Experimento &lt;int&gt; | orden corrida &lt;int&gt; | date &lt;dttm&gt; | publicScore &lt;dbl&gt; | envios &lt;int&gt; | semilla &lt;int&gt; | num_leaves &lt;int&gt; | min_data_in_leaf &lt;int&gt; | feature_fraction &lt;dbl&gt; | learning_rate &lt;dbl&gt; | num_iterations &lt;int&gt; | drift &lt;chr&gt; |\n",
       "|---|---|---|---|---|---|---|---|---|---|---|---|\n",
       "| 9116 | 1 | NA | 6.435 | 2400 | 100379 |  60 | 2100 | 1 | 0.1 | 1032 | dolar_blue |\n",
       "| 9117 | 2 | NA | 6.505 | 1800 | 101111 | 202 | 4281 | 1 | 0.1 |  215 | dolar_blue |\n",
       "| 9118 | 3 | 2025-09-12 17:35:58 | 7.506 | 1800 | 250007 | 120 | 8185 | 1 | 0.1 | 1382 | dolar_blue |\n",
       "| 9119 | 4 | NA | 7.336 | 1800 | 700001 | 220 | 8190 | 1 | 0.1 |  482 | dolar_blue |\n",
       "| 9120 | 5 | NA | 6.055 |   NA | 800011 |  NA |   NA | 1 | 0.1 |   NA | dolar_blue |\n",
       "| 9131 | 6 | NA | 6.575 |   NA | 237689 |  NA |   NA | 1 | 0.1 |   NA | dolar_blue |\n",
       "\n"
      ],
      "text/plain": [
       "  Experimento orden corrida date                publicScore envios semilla\n",
       "1 9116        1             <NA>                6.435       2400   100379 \n",
       "2 9117        2             <NA>                6.505       1800   101111 \n",
       "3 9118        3             2025-09-12 17:35:58 7.506       1800   250007 \n",
       "4 9119        4             <NA>                7.336       1800   700001 \n",
       "5 9120        5             <NA>                6.055         NA   800011 \n",
       "6 9131        6             <NA>                6.575         NA   237689 \n",
       "  num_leaves min_data_in_leaf feature_fraction learning_rate num_iterations\n",
       "1  60        2100             1                0.1           1032          \n",
       "2 202        4281             1                0.1            215          \n",
       "3 120        8185             1                0.1           1382          \n",
       "4 220        8190             1                0.1            482          \n",
       "5  NA          NA             1                0.1             NA          \n",
       "6  NA          NA             1                0.1             NA          \n",
       "  drift     \n",
       "1 dolar_blue\n",
       "2 dolar_blue\n",
       "3 dolar_blue\n",
       "4 dolar_blue\n",
       "5 dolar_blue\n",
       "6 dolar_blue"
      ]
     },
     "metadata": {},
     "output_type": "display_data"
    },
    {
     "name": "stdout",
     "output_type": "stream",
     "text": [
      "[1] \"dolar_blue\"     \"ipc\"            \"ninguno\"        \"nucleo\"        \n",
      "[5] \"rank__simple\"   \"rank_cero_fijo\" \"std\"           \n",
      "[1] \"ipc\"            \"nucleo\"         \"dolar_blue\"     \"ninguno\"       \n",
      "[5] \"rank_simple\"    \"rank_cero_fijo\" \"std\"           \n",
      "           ipc         nucleo     dolar_blue        ninguno    rank_simple \n",
      "            10              5             10             20             10 \n",
      "rank_cero_fijo            std \n",
      "            20             10 \n"
     ]
    }
   ],
   "source": [
    "# Print head of data\n",
    "head(df)\n",
    "\n",
    "# Get unique drift methods\n",
    "drift_methods <- unique(df$drift)\n",
    "print(drift_methods)\n",
    "\n",
    "# Create separate vectors for each drift method that actually exists\n",
    "score_by_drift <- list()\n",
    "\n",
    "# Only create entries for methods that exist in the data\n",
    "if(\"ipc\" %in% drift_methods) {\n",
    "  score_by_drift$ipc <- df[drift == \"ipc\", publicScore]\n",
    "}\n",
    "if(\"nucleo\" %in% drift_methods) {\n",
    "  score_by_drift$nucleo <- df[drift == \"nucleo\", publicScore]\n",
    "}\n",
    "if(\"dolar_blue\" %in% drift_methods) {\n",
    "  score_by_drift$dolar_blue <- df[drift == \"dolar_blue\", publicScore]\n",
    "}\n",
    "if(\"ninguno\" %in% drift_methods) {\n",
    "  score_by_drift$ninguno <- df[drift == \"ninguno\", publicScore]\n",
    "}\n",
    "if(\"rank__simple\" %in% drift_methods) {  # Note: double underscore\n",
    "  score_by_drift$rank_simple <- df[drift == \"rank__simple\", publicScore]\n",
    "}\n",
    "if(\"rank_cero_fijo\" %in% drift_methods) {\n",
    "  score_by_drift$rank_cero_fijo <- df[drift == \"rank_cero_fijo\", publicScore]\n",
    "}\n",
    "if(\"std\" %in% drift_methods) {\n",
    "  score_by_drift$std <- df[drift == \"std\", publicScore]\n",
    "}\n",
    "\n",
    "# Check what we actually have\n",
    "print(names(score_by_drift))\n",
    "print(sapply(score_by_drift, length))"
   ]
  },
  {
   "cell_type": "code",
   "execution_count": 33,
   "id": "c482288a",
   "metadata": {
    "vscode": {
     "languageId": "r"
    }
   },
   "outputs": [],
   "source": [
    "# First, let's create a helper function to get the orden_corrida for each drift method\n",
    "get_ordered_scores <- function(drift_method) {\n",
    "  # Get the subset for this drift method\n",
    "  subset_df <- df[drift == drift_method]\n",
    "  \n",
    "  # Order by orden_corrida\n",
    "  setorder(subset_df, orden_corrida)\n",
    "  \n",
    "  # Return the ordered publicScore\n",
    "  return(subset_df$publicScore)\n",
    "}\n",
    "\n",
    "# Create ordered score vectors\n",
    "score_by_drift_ordered <- list()\n",
    "\n",
    "for(method in drift_methods) {\n",
    "  if(method %in% df$drift) {\n",
    "    score_by_drift_ordered[[method]] <- get_ordered_scores(method)\n",
    "  }\n",
    "}\n",
    "\n",
    "# Or more concisely using lapply\n",
    "score_by_drift_ordered <- lapply(drift_methods, function(method) {\n",
    "  subset_df <- df[drift == method]\n",
    "  setorder(subset_df, orden_corrida) \n",
    "  return(subset_df$publicScore)\n",
    "})\n",
    "names(score_by_drift_ordered) <- drift_methods"
   ]
  },
  {
   "cell_type": "code",
   "execution_count": 37,
   "id": "8fc0a772",
   "metadata": {
    "vscode": {
     "languageId": "r"
    }
   },
   "outputs": [
    {
     "data": {
      "text/html": [
       "<table class=\"dataframe\">\n",
       "<caption>A data.table: 6 x 12</caption>\n",
       "<thead>\n",
       "\t<tr><th scope=col>Experimento</th><th scope=col>orden_corrida</th><th scope=col>date</th><th scope=col>publicScore</th><th scope=col>envios</th><th scope=col>semilla</th><th scope=col>num_leaves</th><th scope=col>min_data_in_leaf</th><th scope=col>feature_fraction</th><th scope=col>learning_rate</th><th scope=col>num_iterations</th><th scope=col>drift</th></tr>\n",
       "\t<tr><th scope=col>&lt;int&gt;</th><th scope=col>&lt;int&gt;</th><th scope=col>&lt;dttm&gt;</th><th scope=col>&lt;dbl&gt;</th><th scope=col>&lt;int&gt;</th><th scope=col>&lt;int&gt;</th><th scope=col>&lt;int&gt;</th><th scope=col>&lt;int&gt;</th><th scope=col>&lt;dbl&gt;</th><th scope=col>&lt;dbl&gt;</th><th scope=col>&lt;int&gt;</th><th scope=col>&lt;chr&gt;</th></tr>\n",
       "</thead>\n",
       "<tbody>\n",
       "\t<tr><td>9116</td><td>1</td><td>NA</td><td>6.435</td><td>2400</td><td>100379</td><td> 60</td><td>2100</td><td>1.0000000</td><td>0.10000000</td><td>1032</td><td>dolar_blue    </td></tr>\n",
       "\t<tr><td>9105</td><td>1</td><td>NA</td><td>7.506</td><td>1900</td><td>100379</td><td>256</td><td>4940</td><td>1.0000000</td><td>0.10000000</td><td>1139</td><td>ipc           </td></tr>\n",
       "\t<tr><td>9203</td><td>1</td><td>2025-09-11 23:22:51</td><td>6.885</td><td>1900</td><td>100379</td><td>189</td><td>8188</td><td>1.0000000</td><td>0.10000000</td><td> 502</td><td>ninguno       </td></tr>\n",
       "\t<tr><td>9111</td><td>1</td><td>NA</td><td>6.225</td><td>1800</td><td>100379</td><td>256</td><td>2967</td><td>1.0000000</td><td>0.10000000</td><td> 746</td><td>nucleo        </td></tr>\n",
       "\t<tr><td>9208</td><td>1</td><td>2025-09-12 08:28:59</td><td>3.873</td><td>1800</td><td>100379</td><td>168</td><td>  27</td><td>1.0000000</td><td>0.10000000</td><td>1367</td><td>rank__simple  </td></tr>\n",
       "\t<tr><td>9218</td><td>1</td><td>2025-09-14 03:07:27</td><td>7.045</td><td>2400</td><td>100379</td><td>149</td><td>1256</td><td>0.2886525</td><td>0.01406128</td><td> 386</td><td>rank_cero_fijo</td></tr>\n",
       "</tbody>\n",
       "</table>\n"
      ],
      "text/latex": [
       "A data.table: 6 x 12\n",
       "\\begin{tabular}{llllllllllll}\n",
       " Experimento & orden\\_corrida & date & publicScore & envios & semilla & num\\_leaves & min\\_data\\_in\\_leaf & feature\\_fraction & learning\\_rate & num\\_iterations & drift\\\\\n",
       " <int> & <int> & <dttm> & <dbl> & <int> & <int> & <int> & <int> & <dbl> & <dbl> & <int> & <chr>\\\\\n",
       "\\hline\n",
       "\t 9116 & 1 & NA & 6.435 & 2400 & 100379 &  60 & 2100 & 1.0000000 & 0.10000000 & 1032 & dolar\\_blue    \\\\\n",
       "\t 9105 & 1 & NA & 7.506 & 1900 & 100379 & 256 & 4940 & 1.0000000 & 0.10000000 & 1139 & ipc           \\\\\n",
       "\t 9203 & 1 & 2025-09-11 23:22:51 & 6.885 & 1900 & 100379 & 189 & 8188 & 1.0000000 & 0.10000000 &  502 & ninguno       \\\\\n",
       "\t 9111 & 1 & NA & 6.225 & 1800 & 100379 & 256 & 2967 & 1.0000000 & 0.10000000 &  746 & nucleo        \\\\\n",
       "\t 9208 & 1 & 2025-09-12 08:28:59 & 3.873 & 1800 & 100379 & 168 &   27 & 1.0000000 & 0.10000000 & 1367 & rank\\_\\_simple  \\\\\n",
       "\t 9218 & 1 & 2025-09-14 03:07:27 & 7.045 & 2400 & 100379 & 149 & 1256 & 0.2886525 & 0.01406128 &  386 & rank\\_cero\\_fijo\\\\\n",
       "\\end{tabular}\n"
      ],
      "text/markdown": [
       "\n",
       "A data.table: 6 x 12\n",
       "\n",
       "| Experimento &lt;int&gt; | orden_corrida &lt;int&gt; | date &lt;dttm&gt; | publicScore &lt;dbl&gt; | envios &lt;int&gt; | semilla &lt;int&gt; | num_leaves &lt;int&gt; | min_data_in_leaf &lt;int&gt; | feature_fraction &lt;dbl&gt; | learning_rate &lt;dbl&gt; | num_iterations &lt;int&gt; | drift &lt;chr&gt; |\n",
       "|---|---|---|---|---|---|---|---|---|---|---|---|\n",
       "| 9116 | 1 | NA | 6.435 | 2400 | 100379 |  60 | 2100 | 1.0000000 | 0.10000000 | 1032 | dolar_blue     |\n",
       "| 9105 | 1 | NA | 7.506 | 1900 | 100379 | 256 | 4940 | 1.0000000 | 0.10000000 | 1139 | ipc            |\n",
       "| 9203 | 1 | 2025-09-11 23:22:51 | 6.885 | 1900 | 100379 | 189 | 8188 | 1.0000000 | 0.10000000 |  502 | ninguno        |\n",
       "| 9111 | 1 | NA | 6.225 | 1800 | 100379 | 256 | 2967 | 1.0000000 | 0.10000000 |  746 | nucleo         |\n",
       "| 9208 | 1 | 2025-09-12 08:28:59 | 3.873 | 1800 | 100379 | 168 |   27 | 1.0000000 | 0.10000000 | 1367 | rank__simple   |\n",
       "| 9218 | 1 | 2025-09-14 03:07:27 | 7.045 | 2400 | 100379 | 149 | 1256 | 0.2886525 | 0.01406128 |  386 | rank_cero_fijo |\n",
       "\n"
      ],
      "text/plain": [
       "  Experimento orden_corrida date                publicScore envios semilla\n",
       "1 9116        1             <NA>                6.435       2400   100379 \n",
       "2 9105        1             <NA>                7.506       1900   100379 \n",
       "3 9203        1             2025-09-11 23:22:51 6.885       1900   100379 \n",
       "4 9111        1             <NA>                6.225       1800   100379 \n",
       "5 9208        1             2025-09-12 08:28:59 3.873       1800   100379 \n",
       "6 9218        1             2025-09-14 03:07:27 7.045       2400   100379 \n",
       "  num_leaves min_data_in_leaf feature_fraction learning_rate num_iterations\n",
       "1  60        2100             1.0000000        0.10000000    1032          \n",
       "2 256        4940             1.0000000        0.10000000    1139          \n",
       "3 189        8188             1.0000000        0.10000000     502          \n",
       "4 256        2967             1.0000000        0.10000000     746          \n",
       "5 168          27             1.0000000        0.10000000    1367          \n",
       "6 149        1256             0.2886525        0.01406128     386          \n",
       "  drift         \n",
       "1 dolar_blue    \n",
       "2 ipc           \n",
       "3 ninguno       \n",
       "4 nucleo        \n",
       "5 rank__simple  \n",
       "6 rank_cero_fijo"
      ]
     },
     "metadata": {},
     "output_type": "display_data"
    },
    {
     "name": "stdout",
     "output_type": "stream",
     "text": [
      "[1] \"dolar_blue\"     \"ipc\"            \"ninguno\"        \"nucleo\"        \n",
      "[5] \"rank__simple\"   \"rank_cero_fijo\" \"std\"           \n",
      "[1] \"dolar_blue\"     \"ipc\"            \"ninguno\"        \"nucleo\"        \n",
      "[5] \"rank__simple\"   \"rank_cero_fijo\" \"std\"           \n",
      "    dolar_blue            ipc        ninguno         nucleo   rank__simple \n",
      "            10             10             20              5             10 \n",
      "rank_cero_fijo            std \n",
      "            20             10 \n"
     ]
    },
    {
     "name": "stderr",
     "output_type": "stream",
     "text": [
      "Warning message in wilcox.test.default(scores1_paired, scores2_paired, paired = TRUE):\n",
      "\"cannot compute exact p-value with ties\"\n",
      "Warning message in wilcox.test.default(scores1_paired, scores2_paired, paired = TRUE):\n",
      "\"cannot compute exact p-value with ties\"\n"
     ]
    },
    {
     "name": "stdout",
     "output_type": "stream",
     "text": [
      "          method1        method2 n_compared   pvalue mean1 mean2   diff\n",
      "15   rank__simple rank_cero_fijo         10 0.005859 6.056 7.295 -1.239\n",
      "17            ipc            std         10 0.005859 7.083 5.211  1.873\n",
      "21 rank_cero_fijo            std         10 0.005859 7.295 5.211  2.085\n",
      "8             ipc   rank__simple         10 0.013672 7.083 6.056  1.027\n",
      "11     dolar_blue rank_cero_fijo         10 0.019531 6.769 7.295 -0.526\n",
      "18        ninguno            std         10 0.037109 7.017 5.211  1.807\n",
      "9         ninguno   rank__simple         10 0.059171 7.017 6.056  0.961\n",
      "10         nucleo   rank__simple          5 0.062500 6.793 5.810  0.983\n",
      "16     dolar_blue            std         10 0.064453 6.769 5.211  1.558\n",
      "7      dolar_blue   rank__simple         10 0.105469 6.769 6.056  0.713\n",
      "5             ipc         nucleo          5 0.125000 7.502 6.793  0.709\n",
      "14         nucleo rank_cero_fijo          5 0.125000 6.793 7.241 -0.448\n",
      "1      dolar_blue            ipc         10 0.232422 6.769 7.083 -0.314\n",
      "2      dolar_blue        ninguno         10 0.322266 6.769 7.017 -0.248\n",
      "19         nucleo            std          5 0.437500 6.793 6.457  0.336\n",
      "4      dolar_blue         nucleo          5 0.625000 6.767 6.793 -0.026\n",
      "6         ninguno         nucleo          5 0.625000 7.009 6.793  0.216\n",
      "20   rank__simple            std         10 0.625000 6.056 5.211  0.846\n",
      "13        ninguno rank_cero_fijo         20 0.708881 7.033 6.933  0.100\n",
      "3             ipc        ninguno         10 0.769531 7.083 7.017  0.066\n",
      "12            ipc rank_cero_fijo         10 0.769531 7.083 7.295 -0.212\n",
      "                result\n",
      "15 rank_cero_fijo WINS\n",
      "17            ipc WINS\n",
      "21 rank_cero_fijo WINS\n",
      "8             ipc WINS\n",
      "11 rank_cero_fijo WINS\n",
      "18        ninguno WINS\n",
      "9      NOT-SIGNIFICANT\n",
      "10     NOT-SIGNIFICANT\n",
      "16     NOT-SIGNIFICANT\n",
      "7      NOT-SIGNIFICANT\n",
      "5      NOT-SIGNIFICANT\n",
      "14     NOT-SIGNIFICANT\n",
      "1      NOT-SIGNIFICANT\n",
      "2      NOT-SIGNIFICANT\n",
      "19     NOT-SIGNIFICANT\n",
      "4      NOT-SIGNIFICANT\n",
      "6      NOT-SIGNIFICANT\n",
      "20     NOT-SIGNIFICANT\n",
      "13     NOT-SIGNIFICANT\n",
      "3      NOT-SIGNIFICANT\n",
      "12     NOT-SIGNIFICANT\n",
      "[1] \"\\nSummary by drift method:\"\n",
      "            drift count mean_score median_score sd_score min_score max_score\n",
      "           <char> <int>      <num>        <num>    <num>     <num>     <num>\n",
      "1:            ipc    10      7.083        6.895    0.605     6.195     8.136\n",
      "2:        ninguno    20      7.033        6.990    0.437     6.034     7.706\n",
      "3: rank_cero_fijo    20      6.933        7.050    0.810     4.363     8.426\n",
      "4:         nucleo     5      6.793        7.065    0.434     6.225     7.135\n",
      "5:     dolar_blue    10      6.769        6.710    0.569     5.974     7.586\n",
      "6:   rank__simple    10      6.056        6.085    1.038     3.873     7.406\n",
      "7:            std    10      5.211        6.140    3.203    -3.653     7.446\n",
      "\n",
      "Best performing method: ipc with mean score: 7.083 \n"
     ]
    }
   ],
   "source": [
    "library(data.table)\n",
    "\n",
    "# Read the CSV\n",
    "df <- fread(\"/Users/franco.benites/dm2025b/src/workflows/experiments_tracking.csv\")\n",
    "\n",
    "# Rename column\n",
    "setnames(df, old = 2, new = \"orden_corrida\")\n",
    "\n",
    "# Clean drift column\n",
    "df[, drift := tolower(drift)]\n",
    "df[, drift := gsub(\" \", \"_\", drift)]\n",
    "\n",
    "# Remove rows with missing publicScore\n",
    "df <- df[!is.na(publicScore)]\n",
    "\n",
    "# Order the entire dataset by orden_corrida\n",
    "setorder(df, orden_corrida)\n",
    "\n",
    "# Print head of data\n",
    "head(df)\n",
    "\n",
    "# Get unique drift methods\n",
    "drift_methods <- unique(df$drift)\n",
    "print(drift_methods)\n",
    "\n",
    "# Create ordered score vectors for each drift method\n",
    "get_ordered_scores <- function(drift_method) {\n",
    "  subset_df <- df[drift == drift_method]\n",
    "  setorder(subset_df, orden_corrida)  # Ensure ordering within each method\n",
    "  return(subset_df$publicScore)\n",
    "}\n",
    "\n",
    "# Create score_by_drift with proper ordering\n",
    "score_by_drift <- list()\n",
    "for(method in drift_methods) {\n",
    "  if(method %in% df$drift) {\n",
    "    score_by_drift[[method]] <- get_ordered_scores(method)\n",
    "  }\n",
    "}\n",
    "\n",
    "# Print what we have\n",
    "print(names(score_by_drift))\n",
    "print(sapply(score_by_drift, length))\n",
    "\n",
    "# Updated comparison function with paired tests using shortest length\n",
    "compare_methods <- function(method1, method2) {\n",
    "  scores1 <- as.numeric(score_by_drift[[method1]])\n",
    "  scores2 <- as.numeric(score_by_drift[[method2]])\n",
    "  \n",
    "  # Get the minimum length to ensure paired comparison\n",
    "  min_length <- min(length(scores1), length(scores2))\n",
    "  \n",
    "  # Truncate both vectors to the same length\n",
    "  scores1_paired <- scores1[1:min_length]\n",
    "  scores2_paired <- scores2[1:min_length]\n",
    "  \n",
    "  # Always use paired test now\n",
    "  wt <- wilcox.test(scores1_paired, scores2_paired, paired = TRUE)\n",
    "  \n",
    "  pvalue <- wt$p.value\n",
    "  \n",
    "  out <- \"NOT-SIGNIFICANT\"\n",
    "  if (pvalue < 0.05 && mean(scores1_paired) > mean(scores2_paired)) {\n",
    "    out <- paste(method1, \"WINS\")\n",
    "  } else if (pvalue < 0.05 && mean(scores1_paired) < mean(scores2_paired)) {\n",
    "    out <- paste(method2, \"WINS\")\n",
    "  }\n",
    "  \n",
    "  return(data.frame(\n",
    "    method1 = method1,\n",
    "    method2 = method2,\n",
    "    n_compared = min_length,  # Show how many pairs were compared\n",
    "    pvalue = round(pvalue, 6),\n",
    "    mean1 = round(mean(scores1_paired), 3),\n",
    "    mean2 = round(mean(scores2_paired), 3),\n",
    "    diff = round(mean(scores1_paired) - mean(scores2_paired), 3),\n",
    "    result = out,\n",
    "    stringsAsFactors = FALSE\n",
    "  ))\n",
    "}\n",
    "\n",
    "# The rest of the code remains the same...\n",
    "# Get all unique pairs and run comparisons\n",
    "methods <- names(score_by_drift)\n",
    "pairs <- expand.grid(method1 = methods, method2 = methods, stringsAsFactors = FALSE)\n",
    "pairs <- pairs[pairs$method1 < pairs$method2, ]\n",
    "\n",
    "# Run all pairwise comparisons\n",
    "results <- do.call(rbind, \n",
    "  lapply(1:nrow(pairs), function(i) {\n",
    "    compare_methods(pairs$method1[i], pairs$method2[i])\n",
    "  })\n",
    ")\n",
    "\n",
    "# Sort results by p-value to see most significant first\n",
    "setorder(results, pvalue)\n",
    "\n",
    "# Print results\n",
    "print(results)\n",
    "\n",
    "# Summary statistics by method\n",
    "summary_stats <- df[, .(\n",
    "  count = .N,\n",
    "  mean_score = round(mean(publicScore, na.rm = TRUE), 3),\n",
    "  median_score = round(median(publicScore, na.rm = TRUE), 3),\n",
    "  sd_score = round(sd(publicScore, na.rm = TRUE), 3),\n",
    "  min_score = round(min(publicScore, na.rm = TRUE), 3),\n",
    "  max_score = round(max(publicScore, na.rm = TRUE), 3)\n",
    "), by = drift]\n",
    "\n",
    "setorder(summary_stats, -mean_score)\n",
    "print(\"\\nSummary by drift method:\")\n",
    "print(summary_stats)\n",
    "\n",
    "# Find best performing method\n",
    "best_method <- summary_stats[1, drift]\n",
    "cat(\"\\nBest performing method:\", best_method, \"with mean score:\", summary_stats[1, mean_score], \"\\n\")\n",
    "\n",
    "# Save results\n",
    "fwrite(results, \"pairwise_comparisons.csv\")\n",
    "fwrite(summary_stats, \"method_summary.csv\")"
   ]
  },
  {
   "cell_type": "code",
   "execution_count": null,
   "id": "7d0c7162",
   "metadata": {
    "vscode": {
     "languageId": "r"
    }
   },
   "outputs": [],
   "source": []
  }
 ],
 "metadata": {
  "kernelspec": {
   "display_name": "R",
   "language": "R",
   "name": "ir"
  },
  "language_info": {
   "codemirror_mode": "r",
   "file_extension": ".r",
   "mimetype": "text/x-r-source",
   "name": "R",
   "pygments_lexer": "r",
   "version": "4.5.0"
  }
 },
 "nbformat": 4,
 "nbformat_minor": 5
}
