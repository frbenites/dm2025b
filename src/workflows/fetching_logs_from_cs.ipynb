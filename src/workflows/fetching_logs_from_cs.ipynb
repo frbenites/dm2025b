{
 "cells": [
  {
   "cell_type": "code",
   "execution_count": null,
   "id": "f32452c2",
   "metadata": {
    "vscode": {
     "languageId": "r"
    }
   },
   "outputs": [
    {
     "name": "stdout",
     "output_type": "stream",
     "text": [
      "[1] \"/content/buckets/b1/exp/WF9203/submits_9203.csv\"\n",
      "[2] \"/content/buckets/b1/exp/WF9204/submits_9204.csv\"\n",
      "[3] \"/content/buckets/b1/exp/WF9205/submits_9205.csv\"\n",
      "[4] \"/content/buckets/b1/exp/WF9206/submits_9206.csv\"\n",
      "[5] \"/content/buckets/b1/exp/WF9207/submits_9207.csv\"\n",
      "[6] \"/content/buckets/b1/exp/WF9208/submits_9208.csv\"\n",
      "[7] \"/content/buckets/b1/exp/WF9209/submits_9209.csv\"\n",
      "[8] \"/content/buckets/b1/exp/WF9210/submits_9210.csv\"\n",
      "[9] \"/content/buckets/b1/exp/WF9211/submits_9211.csv\"\n"
     ]
    }
   ],
   "source": [
    "file_paths <- paste0(\"/content/buckets/b1/exp/WF\", seq(9203, 9211), \"/submits_\", seq(9203, 9211), \".csv\")\n",
    "print(file_paths)"
   ]
  },
  {
   "cell_type": "code",
   "execution_count": null,
   "id": "21e06c1a",
   "metadata": {
    "vscode": {
     "languageId": "r"
    }
   },
   "outputs": [],
   "source": [
    "file_paths <- paste0(\"/content/buckets/b1/exp/WF\", seq(9203, 9211), \"/submits_\", seq(9203, 9211), \".csv\")\n",
    "\n",
    "final_dataset <- rbindlist(\n",
    "  lapply(file_paths, fread),\n",
    "  fill = TRUE\n",
    ")\n",
    "best_scores <- final_dataset[\n",
    "  order(-publicScore),\n",
    "  .SD[1],              \n",
    "  by = experimento     \n",
    "]\n",
    "# no anda\n",
    "fwrite(best_scores,\n",
    "  file= \"/content/datasets/best_scores.csv\",\n",
    "  sep= \",\"\n",
    ")"
   ]
  }
 ],
 "metadata": {
  "kernelspec": {
   "display_name": "R",
   "language": "R",
   "name": "ir"
  },
  "language_info": {
   "codemirror_mode": "r",
   "file_extension": ".r",
   "mimetype": "text/x-r-source",
   "name": "R",
   "pygments_lexer": "r",
   "version": "4.5.0"
  }
 },
 "nbformat": 4,
 "nbformat_minor": 5
}
