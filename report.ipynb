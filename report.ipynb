{
 "cells": [
  {
   "cell_type": "code",
   "execution_count": 5,
   "id": "b1208bae",
   "metadata": {},
   "outputs": [
    {
     "data": {
      "text/html": [
       "<div>\n",
       "<style scoped>\n",
       "    .dataframe tbody tr th:only-of-type {\n",
       "        vertical-align: middle;\n",
       "    }\n",
       "\n",
       "    .dataframe tbody tr th {\n",
       "        vertical-align: top;\n",
       "    }\n",
       "\n",
       "    .dataframe thead th {\n",
       "        text-align: right;\n",
       "    }\n",
       "</style>\n",
       "<table border=\"1\" class=\"dataframe\">\n",
       "  <thead>\n",
       "    <tr style=\"text-align: right;\">\n",
       "      <th></th>\n",
       "      <th>0</th>\n",
       "      <th>1</th>\n",
       "      <th>2</th>\n",
       "      <th>3</th>\n",
       "      <th>4</th>\n",
       "      <th>5</th>\n",
       "    </tr>\n",
       "  </thead>\n",
       "  <tbody>\n",
       "    <tr>\n",
       "      <th>0</th>\n",
       "      <td>semilla</td>\n",
       "      <td>cp</td>\n",
       "      <td>maxdepth</td>\n",
       "      <td>minsplit</td>\n",
       "      <td>minbucket</td>\n",
       "      <td>ganancia_test</td>\n",
       "    </tr>\n",
       "    <tr>\n",
       "      <th>1</th>\n",
       "      <td>810881</td>\n",
       "      <td>-0.5</td>\n",
       "      <td>4</td>\n",
       "      <td>1000</td>\n",
       "      <td>300</td>\n",
       "      <td>47450000</td>\n",
       "    </tr>\n",
       "    <tr>\n",
       "      <th>2</th>\n",
       "      <td>810881</td>\n",
       "      <td>-0.5</td>\n",
       "      <td>4</td>\n",
       "      <td>1000</td>\n",
       "      <td>300</td>\n",
       "      <td>47450000</td>\n",
       "    </tr>\n",
       "    <tr>\n",
       "      <th>3</th>\n",
       "      <td>810881</td>\n",
       "      <td>-0.5</td>\n",
       "      <td>4</td>\n",
       "      <td>1000</td>\n",
       "      <td>300</td>\n",
       "      <td>47450000</td>\n",
       "    </tr>\n",
       "    <tr>\n",
       "      <th>4</th>\n",
       "      <td>810881</td>\n",
       "      <td>-0.5</td>\n",
       "      <td>4</td>\n",
       "      <td>1000</td>\n",
       "      <td>300</td>\n",
       "      <td>47450000</td>\n",
       "    </tr>\n",
       "  </tbody>\n",
       "</table>\n",
       "</div>"
      ],
      "text/plain": [
       "         0     1         2         3          4              5\n",
       "0  semilla    cp  maxdepth  minsplit  minbucket  ganancia_test\n",
       "1   810881  -0.5         4      1000        300       47450000\n",
       "2   810881  -0.5         4      1000        300       47450000\n",
       "3   810881  -0.5         4      1000        300       47450000\n",
       "4   810881  -0.5         4      1000        300       47450000"
      ]
     },
     "execution_count": 5,
     "metadata": {},
     "output_type": "execute_result"
    }
   ],
   "source": [
    "import pandas as pd\n",
    "#read txt file into dataframe\n",
    "df = pd.read_csv(\"/Users/franco.benites/dm2025b/dm/datasets/gridsearch_detalle.txt\", sep=\"\\t\", header=None)\n",
    "\n",
    "df.head(5)\n",
    "\n",
    "\n",
    "\n"
   ]
  },
  {
   "cell_type": "code",
   "execution_count": null,
   "id": "bd14a7d1",
   "metadata": {},
   "outputs": [],
   "source": [
    "#use first row as header\n"
   ]
  },
  {
   "cell_type": "code",
   "execution_count": 6,
   "id": "d7304b22",
   "metadata": {},
   "outputs": [
    {
     "data": {
      "text/html": [
       "<div>\n",
       "<style scoped>\n",
       "    .dataframe tbody tr th:only-of-type {\n",
       "        vertical-align: middle;\n",
       "    }\n",
       "\n",
       "    .dataframe tbody tr th {\n",
       "        vertical-align: top;\n",
       "    }\n",
       "\n",
       "    .dataframe thead th {\n",
       "        text-align: right;\n",
       "    }\n",
       "</style>\n",
       "<table border=\"1\" class=\"dataframe\">\n",
       "  <thead>\n",
       "    <tr style=\"text-align: right;\">\n",
       "      <th></th>\n",
       "      <th>semilla</th>\n",
       "      <th>cp</th>\n",
       "      <th>maxdepth</th>\n",
       "      <th>minsplit</th>\n",
       "      <th>minbucket</th>\n",
       "      <th>ganancia_test</th>\n",
       "    </tr>\n",
       "  </thead>\n",
       "  <tbody>\n",
       "    <tr>\n",
       "      <th>0</th>\n",
       "      <td>810881</td>\n",
       "      <td>-0.5</td>\n",
       "      <td>4</td>\n",
       "      <td>1000</td>\n",
       "      <td>300</td>\n",
       "      <td>47450000</td>\n",
       "    </tr>\n",
       "    <tr>\n",
       "      <th>1</th>\n",
       "      <td>810881</td>\n",
       "      <td>-0.5</td>\n",
       "      <td>4</td>\n",
       "      <td>1000</td>\n",
       "      <td>300</td>\n",
       "      <td>47450000</td>\n",
       "    </tr>\n",
       "    <tr>\n",
       "      <th>2</th>\n",
       "      <td>810881</td>\n",
       "      <td>-0.5</td>\n",
       "      <td>4</td>\n",
       "      <td>1000</td>\n",
       "      <td>300</td>\n",
       "      <td>47450000</td>\n",
       "    </tr>\n",
       "    <tr>\n",
       "      <th>3</th>\n",
       "      <td>810881</td>\n",
       "      <td>-0.5</td>\n",
       "      <td>4</td>\n",
       "      <td>1000</td>\n",
       "      <td>300</td>\n",
       "      <td>47450000</td>\n",
       "    </tr>\n",
       "    <tr>\n",
       "      <th>4</th>\n",
       "      <td>810881</td>\n",
       "      <td>-0.5</td>\n",
       "      <td>4</td>\n",
       "      <td>1000</td>\n",
       "      <td>300</td>\n",
       "      <td>47450000</td>\n",
       "    </tr>\n",
       "  </tbody>\n",
       "</table>\n",
       "</div>"
      ],
      "text/plain": [
       "   semilla   cp  maxdepth  minsplit  minbucket  ganancia_test\n",
       "0   810881 -0.5         4      1000        300       47450000\n",
       "1   810881 -0.5         4      1000        300       47450000\n",
       "2   810881 -0.5         4      1000        300       47450000\n",
       "3   810881 -0.5         4      1000        300       47450000\n",
       "4   810881 -0.5         4      1000        300       47450000"
      ]
     },
     "execution_count": 6,
     "metadata": {},
     "output_type": "execute_result"
    }
   ],
   "source": [
    "# Instead of header=None, use header=0 (first row as header)\n",
    "df_headers = pd.read_csv(\"/Users/franco.benites/dm2025b/dm/datasets/gridsearch_detalle.txt\", sep=\"\\t\", header=0)\n",
    "df_headers.head(5)"
   ]
  },
  {
   "cell_type": "code",
   "execution_count": 9,
   "id": "abe991c4",
   "metadata": {},
   "outputs": [],
   "source": [
    "df_sorted = df_headers.sort_values(by=\"ganancia_test\", ascending=False).reset_index(drop=True)"
   ]
  },
  {
   "cell_type": "code",
   "execution_count": 10,
   "id": "5e1a0ced",
   "metadata": {},
   "outputs": [
    {
     "data": {
      "text/html": [
       "<div>\n",
       "<style scoped>\n",
       "    .dataframe tbody tr th:only-of-type {\n",
       "        vertical-align: middle;\n",
       "    }\n",
       "\n",
       "    .dataframe tbody tr th {\n",
       "        vertical-align: top;\n",
       "    }\n",
       "\n",
       "    .dataframe thead th {\n",
       "        text-align: right;\n",
       "    }\n",
       "</style>\n",
       "<table border=\"1\" class=\"dataframe\">\n",
       "  <thead>\n",
       "    <tr style=\"text-align: right;\">\n",
       "      <th></th>\n",
       "      <th>semilla</th>\n",
       "      <th>cp</th>\n",
       "      <th>maxdepth</th>\n",
       "      <th>minsplit</th>\n",
       "      <th>minbucket</th>\n",
       "      <th>ganancia_test</th>\n",
       "    </tr>\n",
       "  </thead>\n",
       "  <tbody>\n",
       "    <tr>\n",
       "      <th>0</th>\n",
       "      <td>810881</td>\n",
       "      <td>-0.25</td>\n",
       "      <td>8</td>\n",
       "      <td>200</td>\n",
       "      <td>150</td>\n",
       "      <td>51420000</td>\n",
       "    </tr>\n",
       "    <tr>\n",
       "      <th>1</th>\n",
       "      <td>810881</td>\n",
       "      <td>-0.25</td>\n",
       "      <td>8</td>\n",
       "      <td>100</td>\n",
       "      <td>150</td>\n",
       "      <td>51420000</td>\n",
       "    </tr>\n",
       "    <tr>\n",
       "      <th>2</th>\n",
       "      <td>810881</td>\n",
       "      <td>-0.50</td>\n",
       "      <td>8</td>\n",
       "      <td>10</td>\n",
       "      <td>150</td>\n",
       "      <td>51420000</td>\n",
       "    </tr>\n",
       "    <tr>\n",
       "      <th>3</th>\n",
       "      <td>810881</td>\n",
       "      <td>-0.25</td>\n",
       "      <td>8</td>\n",
       "      <td>10</td>\n",
       "      <td>150</td>\n",
       "      <td>51420000</td>\n",
       "    </tr>\n",
       "    <tr>\n",
       "      <th>4</th>\n",
       "      <td>810881</td>\n",
       "      <td>-0.25</td>\n",
       "      <td>8</td>\n",
       "      <td>50</td>\n",
       "      <td>150</td>\n",
       "      <td>51420000</td>\n",
       "    </tr>\n",
       "  </tbody>\n",
       "</table>\n",
       "</div>"
      ],
      "text/plain": [
       "   semilla    cp  maxdepth  minsplit  minbucket  ganancia_test\n",
       "0   810881 -0.25         8       200        150       51420000\n",
       "1   810881 -0.25         8       100        150       51420000\n",
       "2   810881 -0.50         8        10        150       51420000\n",
       "3   810881 -0.25         8        10        150       51420000\n",
       "4   810881 -0.25         8        50        150       51420000"
      ]
     },
     "execution_count": 10,
     "metadata": {},
     "output_type": "execute_result"
    }
   ],
   "source": [
    "df_sorted.head(5)"
   ]
  },
  {
   "cell_type": "code",
   "execution_count": 14,
   "id": "5b838913",
   "metadata": {},
   "outputs": [
    {
     "data": {
      "text/plain": [
       "semilla            810881.0\n",
       "cp                     -0.5\n",
       "maxdepth                4.0\n",
       "minsplit             1000.0\n",
       "minbucket              30.0\n",
       "ganancia_test    49220000.0\n",
       "Name: 100, dtype: float64"
      ]
     },
     "metadata": {},
     "output_type": "display_data"
    }
   ],
   "source": [
    "#print row 5\n",
    "display(df_sorted.iloc[100])"
   ]
  },
  {
   "cell_type": "markdown",
   "id": "ccb42da2",
   "metadata": {},
   "source": [
    "# Análisis del grupo"
   ]
  },
  {
   "cell_type": "code",
   "execution_count": 21,
   "id": "57f81b28",
   "metadata": {},
   "outputs": [],
   "source": [
    "#yo\n",
    "franco = pd.read_csv(\"/Users/franco.benites/dm2025b/dm/datasets/gridsearch_detalle.txt\", sep=\"\\t\", header=0)\n",
    "cristian = pd.read_csv(\"/Users/franco.benites/dm2025b/dm/datasets/gridsearch_detalle_cz.txt\", sep=\"\\t\", header=0)\n",
    "martin = pd.read_csv(\"/Users/franco.benites/dm2025b/dm/datasets/gridsearch_detalle_ms.txt\", sep=\"\\t\", header=0)\n"
   ]
  },
  {
   "cell_type": "code",
   "execution_count": 22,
   "id": "79d724b8",
   "metadata": {},
   "outputs": [],
   "source": [
    "#append cristian to franco\n",
    "df = pd.concat([franco, cristian], axis=0)\n",
    "df = pd.concat([df, martin], axis=0)"
   ]
  },
  {
   "cell_type": "code",
   "execution_count": 38,
   "id": "66c519c9",
   "metadata": {},
   "outputs": [],
   "source": [
    "df\n",
    "\n",
    "df.to_csv(\"/Users/franco.benites/dm2025b/dm/datasets/gridsearch_grupo.csv\", index=False)"
   ]
  },
  {
   "cell_type": "code",
   "execution_count": 24,
   "id": "e8e1120d",
   "metadata": {},
   "outputs": [],
   "source": [
    "#filtro cp positivo\n",
    "df = df[df['cp'] < 0]"
   ]
  },
  {
   "cell_type": "code",
   "execution_count": 34,
   "id": "314f95bb",
   "metadata": {},
   "outputs": [
    {
     "name": "stdout",
     "output_type": "stream",
     "text": [
      "-0.01\n"
     ]
    }
   ],
   "source": [
    "print(df['cp'].max())"
   ]
  },
  {
   "cell_type": "code",
   "execution_count": 26,
   "id": "158c98e1",
   "metadata": {},
   "outputs": [],
   "source": [
    "df = df.sort_values(by='ganancia_test', ascending=False).reset_index(drop=True)"
   ]
  },
  {
   "cell_type": "code",
   "execution_count": null,
   "id": "f7c08883",
   "metadata": {},
   "outputs": [
    {
     "data": {
      "image/png": "[encoded data removed]",
      "text/plain": [
       "<Figure size 640x480 with 1 Axes>"
      ]
     },
     "metadata": {},
     "output_type": "display_data"
    }
   ],
   "source": [
    "import matplotlib.pyplot as plt\n",
    "\n",
    "#scatter plot\n",
    "#cp vs ganancia_test\n",
    "plt.scatter(df['cp'], df['ganancia_test'])\n",
    "plt.xlabel('cp')\n",
    "plt.ylabel('ganancia_test')\n",
    "plt.show()\n",
    "\n"
   ]
  },
  {
   "cell_type": "code",
   "execution_count": 35,
   "id": "d3ef3856",
   "metadata": {},
   "outputs": [
    {
     "data": {
      "image/png": "[encoded data removed]",
      "text/plain": [
       "<Figure size 640x480 with 1 Axes>"
      ]
     },
     "metadata": {},
     "output_type": "display_data"
    }
   ],
   "source": [
    "#boxplot for each value of cp\n",
    "cp05 = df[df['cp'] == -0.5]\n",
    "cp025 = df[df['cp'] == -0.25]\n",
    "cp01 = df[df['cp'] == -0.1]\n",
    "cp001 = df[df['cp'] == -0.01]\n",
    "\n",
    "plt.boxplot(cp05['ganancia_test'])\n",
    "plt.boxplot(cp025['ganancia_test'])\n",
    "plt.boxplot(cp01['ganancia_test'])\n",
    "plt.boxplot(cp001['ganancia_test'])\n",
    "plt.show()"
   ]
  },
  {
   "cell_type": "code",
   "execution_count": 39,
   "id": "f3c5d3b8",
   "metadata": {},
   "outputs": [
    {
     "data": {
      "image/png": "[encoded data removed]",
      "text/plain": [
       "<Figure size 1200x600 with 1 Axes>"
      ]
     },
     "metadata": {},
     "output_type": "display_data"
    }
   ],
   "source": [
    "import matplotlib.pyplot as plt\n",
    "\n",
    "# Create one plot with all boxplots side by side\n",
    "plt.figure(figsize=(12, 6))\n",
    "\n",
    "# Combine all data for comparison\n",
    "data_to_plot = [cp05['ganancia_test'], cp025['ganancia_test'], \n",
    "                cp01['ganancia_test'], cp001['ganancia_test']]\n",
    "labels = ['CP = 0.5', 'CP = 0.25', 'CP = 0.1', 'CP = 0.01']\n",
    "\n",
    "plt.boxplot(data_to_plot, labels=labels)\n",
    "plt.title('Ganancia Test Comparison by Complexity Parameter')\n",
    "plt.ylabel('Ganancia Test')\n",
    "plt.xticks(rotation=45)\n",
    "plt.grid(True, alpha=0.3)\n",
    "plt.tight_layout()\n",
    "plt.show()"
   ]
  }
 ],
 "metadata": {
  "kernelspec": {
   "display_name": "Python 3",
   "language": "python",
   "name": "python3"
  },
  "language_info": {
   "codemirror_mode": {
    "name": "ipython",
    "version": 3
   },
   "file_extension": ".py",
   "mimetype": "text/x-python",
   "name": "python",
   "nbconvert_exporter": "python",
   "pygments_lexer": "ipython3",
   "version": "3.11.12"
  }
 },
 "nbformat": 4,
 "nbformat_minor": 5
}
